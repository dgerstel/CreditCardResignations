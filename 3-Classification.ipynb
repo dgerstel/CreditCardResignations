{
 "cells": [
  {
   "cell_type": "markdown",
   "metadata": {},
   "source": [
    "# 3. Classification\n",
    "\n",
    "In this section we will \n",
    "- train one or more classifiers\n",
    "- evaluate their performance\n",
    "- fine tune their hyperparameters\n",
    "- save the classifier for future use"
   ]
  },
  {
   "cell_type": "markdown",
   "metadata": {},
   "source": [
    "## Load utilities and programming set up\n",
    "\n",
    "Let's start by loading the useful libraries and retrieving the train and test sets from the previous steps."
   ]
  },
  {
   "cell_type": "code",
   "execution_count": 1,
   "metadata": {},
   "outputs": [],
   "source": [
    "import pandas as pd\n",
    "import matplotlib.pyplot as plt\n",
    "import numpy as np"
   ]
  },
  {
   "cell_type": "code",
   "execution_count": 2,
   "metadata": {},
   "outputs": [],
   "source": [
    "X_train = np.load(\"X_train_step1.pickle.npy\", allow_pickle=True)\n",
    "y_train = np.load(\"y_train_step1.pickle.npy\", allow_pickle=True)\n",
    "\n",
    "X_test = np.load(\"X_test_step1.pickle.npy\", allow_pickle=True)\n",
    "y_test = np.load(\"y_test_step1.pickle.npy\", allow_pickle=True)"
   ]
  },
  {
   "cell_type": "code",
   "execution_count": 3,
   "metadata": {},
   "outputs": [],
   "source": [
    "# Load features\n",
    "import pickle\n",
    "with open('features.pickle', 'rb') as f:\n",
    "    features = pickle.load(f)"
   ]
  },
  {
   "cell_type": "markdown",
   "metadata": {},
   "source": [
    "# Choose and train an ML model\n",
    "\n",
    "Let us start with the Random Forest Classifier."
   ]
  },
  {
   "cell_type": "code",
   "execution_count": 4,
   "metadata": {},
   "outputs": [
    {
     "data": {
      "text/plain": [
       "RandomForestClassifier(n_estimators=25, n_jobs=-1, random_state=1)"
      ]
     },
     "execution_count": 4,
     "metadata": {},
     "output_type": "execute_result"
    }
   ],
   "source": [
    "from sklearn.ensemble import RandomForestClassifier\n",
    "forest = RandomForestClassifier(criterion='gini',\n",
    "                                n_estimators=25,\n",
    "                                random_state=1,\n",
    "                                n_jobs=-1)\n",
    "forest.fit(X_train, y_train)"
   ]
  },
  {
   "cell_type": "code",
   "execution_count": 5,
   "metadata": {},
   "outputs": [],
   "source": [
    "y_pred = forest.predict(X_test)"
   ]
  },
  {
   "cell_type": "code",
   "execution_count": 6,
   "metadata": {},
   "outputs": [
    {
     "data": {
      "text/plain": [
       "0.9595261599210266"
      ]
     },
     "execution_count": 6,
     "metadata": {},
     "output_type": "execute_result"
    }
   ],
   "source": [
    "(y_pred == y_test).sum() / len(y_test)"
   ]
  },
  {
   "cell_type": "code",
   "execution_count": 7,
   "metadata": {},
   "outputs": [
    {
     "data": {
      "text/plain": [
       "array([0.95668271, 0.95888889, 0.95592593])"
      ]
     },
     "execution_count": 7,
     "metadata": {},
     "output_type": "execute_result"
    }
   ],
   "source": [
    "from sklearn.model_selection import cross_val_score\n",
    "cross_val_score(forest, X_train, y_train, cv=3, scoring='accuracy')"
   ]
  },
  {
   "cell_type": "code",
   "execution_count": 8,
   "metadata": {},
   "outputs": [],
   "source": [
    "from sklearn.model_selection import cross_val_predict\n",
    "y_train_pred = cross_val_predict(forest, X_train, y_train, cv=3)"
   ]
  },
  {
   "cell_type": "code",
   "execution_count": 9,
   "metadata": {},
   "outputs": [
    {
     "data": {
      "text/plain": [
       "(8101,)"
      ]
     },
     "execution_count": 9,
     "metadata": {},
     "output_type": "execute_result"
    }
   ],
   "source": [
    "y_train_pred.shape"
   ]
  },
  {
   "cell_type": "markdown",
   "metadata": {},
   "source": [
    "Above we may have impression the classifier performs very well, resulting in 96% accuracy.\n",
    "However, we must remember that the churning clients are minority, therefore it is important to inspect, e.g. how they are classified.\n",
    "To this end, let us build the confusion matrix."
   ]
  },
  {
   "cell_type": "code",
   "execution_count": 10,
   "metadata": {},
   "outputs": [
    {
     "data": {
      "text/plain": [
       "array([[6704,   95],\n",
       "       [ 252, 1050]])"
      ]
     },
     "execution_count": 10,
     "metadata": {},
     "output_type": "execute_result"
    }
   ],
   "source": [
    "from sklearn.metrics import confusion_matrix\n",
    "confusion_matrix(y_train, y_train_pred)"
   ]
  },
  {
   "cell_type": "markdown",
   "metadata": {},
   "source": [
    "- 6706 true negatives ($TN$) (i.e. active clients classified correctly)\n",
    "- 93 false positives ($FP$) (i.e. active clients misclassified as attrited)\n",
    "- 251 false negatives ($FN$) (i.e. attrited clients misclassified as active)\n",
    "- 1051 true positives ($TP$) (i.e. attrited clients classified correctly)"
   ]
  },
  {
   "cell_type": "markdown",
   "metadata": {},
   "source": [
    "The confusion matrix allows us to measure two interesting metrics:\n",
    "- **precision**, i.e. $\\frac{TP}{TP+FP}$\n",
    "- **recall** (_sensitivity_), i.e. $\\frac{TP}{TP+FN}$\n",
    "\n",
    "We may compute them using the `sklearn` functions."
   ]
  },
  {
   "cell_type": "code",
   "execution_count": 11,
   "metadata": {},
   "outputs": [
    {
     "data": {
      "text/plain": [
       "0.9170305676855895"
      ]
     },
     "execution_count": 11,
     "metadata": {},
     "output_type": "execute_result"
    }
   ],
   "source": [
    "from sklearn.metrics import precision_score, recall_score\n",
    "precision_score(y_train, y_train_pred)"
   ]
  },
  {
   "cell_type": "code",
   "execution_count": 12,
   "metadata": {},
   "outputs": [
    {
     "data": {
      "text/plain": [
       "0.9187062937062938"
      ]
     },
     "execution_count": 12,
     "metadata": {},
     "output_type": "execute_result"
    }
   ],
   "source": [
    "1051/(1051+93)"
   ]
  },
  {
   "cell_type": "code",
   "execution_count": 13,
   "metadata": {},
   "outputs": [
    {
     "data": {
      "text/plain": [
       "0.8064516129032258"
      ]
     },
     "execution_count": 13,
     "metadata": {},
     "output_type": "execute_result"
    }
   ],
   "source": [
    "recall_score(y_train, y_train_pred)"
   ]
  },
  {
   "cell_type": "code",
   "execution_count": 14,
   "metadata": {},
   "outputs": [
    {
     "data": {
      "text/plain": [
       "0.8072196620583717"
      ]
     },
     "execution_count": 14,
     "metadata": {},
     "output_type": "execute_result"
    }
   ],
   "source": [
    "1051/(1051+251)"
   ]
  },
  {
   "cell_type": "markdown",
   "metadata": {},
   "source": [
    "Another useful metric is the $F_1$-score, defined as a harmonic mean of precision and recall.\n",
    "It is sensitive to low values and is a good way to have a single metric that expresses the both aspects."
   ]
  },
  {
   "cell_type": "code",
   "execution_count": 15,
   "metadata": {},
   "outputs": [
    {
     "data": {
      "text/plain": [
       "0.8581937065794851"
      ]
     },
     "execution_count": 15,
     "metadata": {},
     "output_type": "execute_result"
    }
   ],
   "source": [
    "from sklearn.metrics import f1_score\n",
    "f1_score(y_train, y_train_pred)"
   ]
  },
  {
   "cell_type": "markdown",
   "metadata": {},
   "source": [
    "$F_1$ favours classifiers that have similar precision and recall, which might be not ideal.\n",
    "If the bank wants to catch as many clients that would churn, then high recall is more important."
   ]
  },
  {
   "cell_type": "markdown",
   "metadata": {},
   "source": [
    "Let's try to tinker with the classifier threshold."
   ]
  },
  {
   "cell_type": "code",
   "execution_count": 16,
   "metadata": {},
   "outputs": [],
   "source": [
    "# BELOW DOESN'T WORK FOR RANDOM FORESTS!!! BUT SHOULD WORK FOR OTHER CLASSIFIERS\n",
    "# Return decision function score rather than class\n",
    "# y_scores = cross_val_predict(forest, X_train, y_train, cv=3, method=\"decision_function\")\n",
    "# from sklearn.metrics import precision_recall_curve\n",
    "# precisions, recalls, thresholds = precision_recall_curve(y_train, y_scores)\n",
    "\n",
    "# def plot_precision_recall_vs_threshold(precisions, recalls, thresholds):\n",
    "#     plt.plot(thresholds, precisions[:-1], \"b--\", label=\"Precision\")\n",
    "#     plt.plot(thresholds, recalls[:-1], \"g--\", label=\"Recall\")\n",
    "#     plt.legend()\n",
    "    \n",
    "# plot_precision_recall_vs_threshold(precisions, recalls, thresholds)\n",
    "# plt.show()\n",
    "y_probas_forest = cross_val_predict(forest, X_train, y_train, cv=3,\n",
    "                                    method=\"predict_proba\")"
   ]
  },
  {
   "cell_type": "code",
   "execution_count": 17,
   "metadata": {},
   "outputs": [],
   "source": [
    "y_scores_forest = y_probas_forest[:,1] # positive class (2nd column) probability"
   ]
  },
  {
   "cell_type": "code",
   "execution_count": 18,
   "metadata": {},
   "outputs": [],
   "source": [
    "from sklearn.metrics import precision_recall_curve\n",
    "precisions, recalls, thls = precision_recall_curve(y_train, y_scores_forest)"
   ]
  },
  {
   "cell_type": "code",
   "execution_count": 19,
   "metadata": {},
   "outputs": [
    {
     "data": {
      "image/png": "[encoded data removed]",
      "text/plain": [
       "<Figure size 432x288 with 1 Axes>"
      ]
     },
     "metadata": {},
     "output_type": "display_data"
    }
   ],
   "source": [
    "# Import seaborn\n",
    "import seaborn as sns\n",
    "\n",
    "# Apply the default theme\n",
    "sns.set_theme()\n",
    "def plot_precision_recall_vs_threshold(precisions, recalls, thresholds):\n",
    "    plt.plot(thresholds, precisions[:-1], \"b--\", label=\"Precision\")\n",
    "    plt.plot(thresholds, recalls[:-1], \"g--\", label=\"Recall\")\n",
    "    plt.legend()\n",
    "    plt.xlabel(\"Threshold\")\n",
    "    plt.ylabel(\"Fraction\")\n",
    "    #plt.grid()\n",
    "plot_precision_recall_vs_threshold(precisions, recalls, thls)\n",
    "plt.show()"
   ]
  },
  {
   "cell_type": "code",
   "execution_count": 20,
   "metadata": {},
   "outputs": [
    {
     "data": {
      "text/plain": [
       "10"
      ]
     },
     "execution_count": 20,
     "metadata": {},
     "output_type": "execute_result"
    }
   ],
   "source": [
    "np.argmax(recalls < 0.90)"
   ]
  },
  {
   "cell_type": "code",
   "execution_count": 21,
   "metadata": {},
   "outputs": [
    {
     "name": "stdout",
     "output_type": "stream",
     "text": [
      "Threshold with 90% recall:  0.4\n",
      "=> Precision: 0.85\n"
     ]
    }
   ],
   "source": [
    "# Find threshold for recall 90%\n",
    "threshold_40_recall = thls[np.argmax(recalls < 0.90)] # NB. recalls are decreasing, hence < operator\n",
    "print(\"Threshold with 90% recall: \", threshold_40_recall)\n",
    "print(\"=> Precision: %.2f\" % precisions[np.argmax(recalls < 0.90)])"
   ]
  },
  {
   "cell_type": "code",
   "execution_count": 22,
   "metadata": {},
   "outputs": [],
   "source": [
    "from sklearn.metrics import roc_curve\n",
    "fpr_forest, tpr_forest, thl_forest = roc_curve(y_train, y_scores_forest)\n",
    "\n",
    "def plot_roc_curve(fpr, tpr, label=None):\n",
    "    plt.plot(fpr, tpr, linewidth=2, label=label)\n",
    "    plt.plot([0,1], [0,1], 'k--', label=\"coin toss\") # Dashed diagonal\n",
    "    if label:\n",
    "        plt.legend()\n",
    "    plt.xlabel(\"False Positive Rate\")\n",
    "    plt.ylabel(\"True Positive Rate (Recall)\")"
   ]
  },
  {
   "cell_type": "code",
   "execution_count": 23,
   "metadata": {},
   "outputs": [
    {
     "data": {
      "image/png": "[encoded data removed]",
      "text/plain": [
       "<Figure size 432x288 with 1 Axes>"
      ]
     },
     "metadata": {},
     "output_type": "display_data"
    }
   ],
   "source": [
    "plot_roc_curve(fpr_forest, tpr_forest, \"Random Forest\")\n",
    "plt.show()"
   ]
  },
  {
   "cell_type": "code",
   "execution_count": 24,
   "metadata": {},
   "outputs": [
    {
     "data": {
      "text/plain": [
       "0.9862562805725699"
      ]
     },
     "execution_count": 24,
     "metadata": {},
     "output_type": "execute_result"
    }
   ],
   "source": [
    "from sklearn.metrics import roc_auc_score\n",
    "roc_auc_score(y_train, y_probas_forest[:,1])"
   ]
  },
  {
   "cell_type": "code",
   "execution_count": 25,
   "metadata": {},
   "outputs": [
    {
     "data": {
      "image/png": "[encoded data removed]",
      "text/plain": [
       "<Figure size 432x288 with 1 Axes>"
      ]
     },
     "metadata": {},
     "output_type": "display_data"
    }
   ],
   "source": [
    "def plot_feature_importances(features, feature_importances, hilight_n=None):\n",
    "    features_importances_sorted = sorted(zip(features, feature_importances), key = lambda x: x[1], reverse=True)\n",
    "    x_sort = [x[0] for x in features_importances_sorted]\n",
    "    y_sort = [x[1] for x in features_importances_sorted]\n",
    "    if hilight_n:\n",
    "        plt.plot(x_sort[:hilight_n], y_sort[:hilight_n], 'bo', label='important')\n",
    "        plt.plot(x_sort[hilight_n:], y_sort[hilight_n:], 'ko', label='less important')\n",
    "        plt.legend()\n",
    "    else:\n",
    "        plt.plot(x_sort, y_sort, 'bo')\n",
    "    plt.xticks(rotation=90)\n",
    "    plt.ylabel(\"Feature Importance\")\n",
    "    plt.show()\n",
    "plot_feature_importances(features, forest.feature_importances_, hilight_n=10)"
   ]
  },
  {
   "cell_type": "markdown",
   "metadata": {},
   "source": [
    "Interestingly, 'Months_Inactive_12_mon' does not appear important, while this feature exhibited significant discrimination between the two classes of clients. Perhaps its correlations with other features are exploited.\n",
    "In particular, 'Months_Inactive_12_mon' shows 4-5% correlation with these *important* features: 'Total_Revolving_Bal', 'Customer_Age', 'Total_Ct_Chng_Q4_Q1', 'Total_Trans_Ct'.\n",
    "\n",
    "<!-- [('Months_Inactive_12_mon', 1.0),\n",
    " ('Label', 0.15793696785340214),\n",
    " ('Months_on_book', 0.06778280864202155),\n",
    " ('Total_Revolving_Bal', -0.05131968994014064),\n",
    " ('Customer_Age', 0.05051876230199617),\n",
    " ('Total_Ct_Chng_Q4_Q1', -0.04867128305295917),\n",
    " ('Total_Trans_Ct', -0.04252991362358253)] -->"
   ]
  },
  {
   "cell_type": "markdown",
   "metadata": {},
   "source": [
    "## Optimise Random Forests"
   ]
  },
  {
   "cell_type": "code",
   "execution_count": 26,
   "metadata": {},
   "outputs": [
    {
     "data": {
      "text/plain": [
       "GridSearchCV(cv=3,\n",
       "             estimator=RandomForestClassifier(n_estimators=25, n_jobs=-1,\n",
       "                                              random_state=1),\n",
       "             n_jobs=-1,\n",
       "             param_grid=[{'max_features': [8, 10, 12],\n",
       "                          'n_estimators': [1000, 1200, 1400]}],\n",
       "             return_train_score=True, scoring='f1')"
      ]
     },
     "execution_count": 26,
     "metadata": {},
     "output_type": "execute_result"
    }
   ],
   "source": [
    "from sklearn.model_selection import GridSearchCV\n",
    "\n",
    "param_grid = [\n",
    "    {'n_estimators': [1000, 1200, 1400],\n",
    "     'max_features': [8, 10, 12]},\n",
    "]\n",
    "grid_search = GridSearchCV(forest, param_grid, cv=3,\n",
    "                           scoring='f1', # maximise F1 score\n",
    "                           return_train_score=True,\n",
    "                           n_jobs=-1)\n",
    "grid_search.fit(X_train, y_train)"
   ]
  },
  {
   "cell_type": "code",
   "execution_count": 27,
   "metadata": {},
   "outputs": [
    {
     "data": {
      "text/plain": [
       "{'max_features': 10, 'n_estimators': 1200}"
      ]
     },
     "execution_count": 27,
     "metadata": {},
     "output_type": "execute_result"
    }
   ],
   "source": [
    "grid_search.best_params_"
   ]
  },
  {
   "cell_type": "code",
   "execution_count": 28,
   "metadata": {},
   "outputs": [
    {
     "data": {
      "text/plain": [
       "RandomForestClassifier(max_features=10, n_estimators=1200, n_jobs=-1,\n",
       "                       random_state=1)"
      ]
     },
     "execution_count": 28,
     "metadata": {},
     "output_type": "execute_result"
    }
   ],
   "source": [
    "grid_search.best_estimator_"
   ]
  },
  {
   "cell_type": "code",
   "execution_count": 29,
   "metadata": {},
   "outputs": [
    {
     "name": "stdout",
     "output_type": "stream",
     "text": [
      "0.884146319838598 {'max_features': 8, 'n_estimators': 1000}\n",
      "0.885026221930297 {'max_features': 8, 'n_estimators': 1200}\n",
      "0.884231855469658 {'max_features': 8, 'n_estimators': 1400}\n",
      "0.8853048904135333 {'max_features': 10, 'n_estimators': 1000}\n",
      "0.8886825185796825 {'max_features': 10, 'n_estimators': 1200}\n",
      "0.8883253233276777 {'max_features': 10, 'n_estimators': 1400}\n",
      "0.8876367562711266 {'max_features': 12, 'n_estimators': 1000}\n",
      "0.8878975465265301 {'max_features': 12, 'n_estimators': 1200}\n",
      "0.8877975679518674 {'max_features': 12, 'n_estimators': 1400}\n"
     ]
    }
   ],
   "source": [
    "cvres = grid_search.cv_results_\n",
    "for f1_score, params in zip(cvres[\"mean_test_score\"], cvres[\"params\"]):\n",
    "    print(f1_score, params)"
   ]
  },
  {
   "cell_type": "code",
   "execution_count": 30,
   "metadata": {},
   "outputs": [],
   "source": [
    "feature_importances = grid_search.best_estimator_.feature_importances_\n",
    "MAX_FEATURES = grid_search.best_estimator_.max_features"
   ]
  },
  {
   "cell_type": "code",
   "execution_count": 31,
   "metadata": {},
   "outputs": [
    {
     "name": "stdout",
     "output_type": "stream",
     "text": [
      "Total_Trans_Ct 0.23284182563180245\n",
      "Total_Trans_Amt 0.17669900797720323\n",
      "Total_Revolving_Bal 0.14730164943061813\n",
      "Total_Ct_Chng_Q4_Q1 0.10620744019594468\n",
      "Total_Relationship_Count 0.08951178718826887\n",
      "Total_Amt_Chng_Q4_Q1 0.05776465081392322\n",
      "Avg_Utilization_Ratio 0.042647372322233486\n",
      "Customer_Age 0.03067941208069235\n",
      "Avg_Open_To_Buy 0.020682045263021837\n",
      "Contacts_Count_12_mon 0.02020937828358816\n",
      "Credit_Limit 0.018330180935261675\n",
      "Months_Inactive_12_mon 0.01801007140721686\n",
      "Months_on_book 0.01726312627023116\n",
      "Dependent_count 0.007991740969757114\n",
      "Education_Level 0.006547265060312053\n",
      "Income_Category 0.005495856588628421\n",
      "Card_Category 0.0018171895812962714\n"
     ]
    },
    {
     "data": {
      "image/png": "[encoded data removed]",
      "text/plain": [
       "<Figure size 432x288 with 1 Axes>"
      ]
     },
     "metadata": {},
     "output_type": "display_data"
    },
    {
     "name": "stdout",
     "output_type": "stream",
     "text": [
      "Selected features: ['Total_Trans_Ct', 'Total_Trans_Amt', 'Total_Revolving_Bal', 'Total_Ct_Chng_Q4_Q1', 'Total_Relationship_Count', 'Total_Amt_Chng_Q4_Q1', 'Avg_Utilization_Ratio', 'Customer_Age', 'Avg_Open_To_Buy', 'Contacts_Count_12_mon']\n"
     ]
    }
   ],
   "source": [
    "selected_features = []\n",
    "for f,i in sorted(zip(features, feature_importances), key = lambda x: x[1], reverse=True):\n",
    "    print(f, i)\n",
    "    if len(selected_features) < MAX_FEATURES:\n",
    "        selected_features.append(f)\n",
    "plot_feature_importances(features, feature_importances, hilight_n=MAX_FEATURES)\n",
    "print(\"Selected features:\", selected_features)"
   ]
  },
  {
   "cell_type": "code",
   "execution_count": 32,
   "metadata": {},
   "outputs": [
    {
     "data": {
      "text/plain": [
       "RandomForestClassifier(n_estimators=1200, n_jobs=-1, random_state=1)"
      ]
     },
     "execution_count": 32,
     "metadata": {},
     "output_type": "execute_result"
    }
   ],
   "source": [
    "# Let's make sure the best estimator is compatible with the one trained from scratch accordingly\n",
    "indexes = [features.index(f) for f in selected_features]\n",
    "X_train_selected = np.take(X_train, indexes, axis=1)\n",
    "clf_check = RandomForestClassifier(criterion='gini',\n",
    "                                   n_estimators=1200,\n",
    "                                   random_state=1,\n",
    "                                   n_jobs=-1)\n",
    "clf_check.fit(X_train_selected, y_train)\n",
    "#X_train_selected.shape"
   ]
  },
  {
   "cell_type": "code",
   "execution_count": 33,
   "metadata": {},
   "outputs": [
    {
     "data": {
      "text/plain": [
       "0.8702415063446582"
      ]
     },
     "execution_count": 33,
     "metadata": {},
     "output_type": "execute_result"
    }
   ],
   "source": [
    "y_train_pred = cross_val_predict(clf_check, X_train, y_train, cv=3)\n",
    "from sklearn.metrics import f1_score\n",
    "score_check = f1_score(y_train, y_train_pred)\n",
    "score_check"
   ]
  },
  {
   "cell_type": "markdown",
   "metadata": {},
   "source": [
    "## Evaluate the model on the Test Set"
   ]
  },
  {
   "cell_type": "code",
   "execution_count": 34,
   "metadata": {},
   "outputs": [],
   "source": [
    "final_model = grid_search.best_estimator_\n",
    "y_test_predict = final_model.predict(X_test)\n",
    "X_test_check = np.take(X_test, indexes, axis=1)\n",
    "y_test_predict_check = clf_check.predict(np.take(X_test, indexes, axis=1))\n",
    "y_test_predict_proba = final_model.predict_proba(X_test)\n",
    "# pipeline needed"
   ]
  },
  {
   "cell_type": "code",
   "execution_count": 35,
   "metadata": {},
   "outputs": [
    {
     "data": {
      "text/plain": [
       "0.912751677852349"
      ]
     },
     "execution_count": 35,
     "metadata": {},
     "output_type": "execute_result"
    }
   ],
   "source": [
    "precision_score(y_test, y_test_predict)\n"
   ]
  },
  {
   "cell_type": "code",
   "execution_count": 36,
   "metadata": {},
   "outputs": [
    {
     "data": {
      "text/plain": [
       "0.9146757679180887"
      ]
     },
     "execution_count": 36,
     "metadata": {},
     "output_type": "execute_result"
    }
   ],
   "source": [
    "precision_score(y_test, y_test_predict_check)\n"
   ]
  },
  {
   "cell_type": "code",
   "execution_count": 37,
   "metadata": {},
   "outputs": [
    {
     "data": {
      "text/plain": [
       "0.8369230769230769"
      ]
     },
     "execution_count": 37,
     "metadata": {},
     "output_type": "execute_result"
    }
   ],
   "source": [
    "recall_score(y_test, y_test_predict)"
   ]
  },
  {
   "cell_type": "code",
   "execution_count": 38,
   "metadata": {},
   "outputs": [
    {
     "data": {
      "text/plain": [
       "0.8731942215088283"
      ]
     },
     "execution_count": 38,
     "metadata": {},
     "output_type": "execute_result"
    }
   ],
   "source": [
    "from sklearn.metrics import f1_score\n",
    "f1_score(y_test, y_test_predict)"
   ]
  },
  {
   "cell_type": "code",
   "execution_count": 39,
   "metadata": {},
   "outputs": [
    {
     "data": {
      "text/plain": [
       "array([False, False,  True, ...,  True, False, False])"
      ]
     },
     "execution_count": 39,
     "metadata": {},
     "output_type": "execute_result"
    }
   ],
   "source": [
    "# Using threshold\n",
    "y_test_predict_proba[:,1] > 0.4"
   ]
  },
  {
   "cell_type": "code",
   "execution_count": 40,
   "metadata": {},
   "outputs": [],
   "source": [
    "precisions, recalls, thls = precision_recall_curve(y_test, y_test_predict_proba[:,1])"
   ]
  },
  {
   "cell_type": "code",
   "execution_count": 41,
   "metadata": {},
   "outputs": [
    {
     "data": {
      "image/png": "[encoded data removed]",
      "text/plain": [
       "<Figure size 432x288 with 1 Axes>"
      ]
     },
     "metadata": {},
     "output_type": "display_data"
    },
    {
     "name": "stdout",
     "output_type": "stream",
     "text": [
      "Recall at 40% threshold: 0.8892307692307693\n",
      "Precision at 40% threshold: 0.8731117824773413\n"
     ]
    }
   ],
   "source": [
    "plot_precision_recall_vs_threshold(precisions, recalls, thls)\n",
    "plt.show()\n",
    "print(\"Recall at 40% threshold:\", recalls[np.argmax(thls >= 0.4)])\n",
    "print(\"Precision at 40% threshold:\", precisions[np.argmax(thls >= 0.4)])"
   ]
  },
  {
   "cell_type": "code",
   "execution_count": 42,
   "metadata": {},
   "outputs": [],
   "source": [
    "class FlexibleThresholdClassifier(object):\n",
    "    \"\"\"Wrapper of the scikit-learn classifier that allows to specify the threshold `thl`.\n",
    "    The default `thl` value of 0.5 corresponds to the default prediction as with \n",
    "    `final_model.predict(X)`. Providing a different value shifts the recall vs. precision working point:\n",
    "    - thl > 0.5 => greater precision, smaller recall\n",
    "    - thl < 0.5 => smaller precision, greater recall\"\"\"\n",
    "    def __init__(self, classifier, thl=0.5):\n",
    "        self.classifier = classifier\n",
    "        self.thl = thl\n",
    "    def predict(self, X):\n",
    "        return np.where(self.predict_proba(X)[:,1] > self.thl, 1, 0)\n",
    "    def predict_proba(self, X):\n",
    "        return self.classifier.predict_proba(X)\n"
   ]
  },
  {
   "cell_type": "code",
   "execution_count": 43,
   "metadata": {},
   "outputs": [],
   "source": [
    "myModel = FlexibleThresholdClassifier(clf_check, thl=0.4)\n"
   ]
  },
  {
   "cell_type": "code",
   "execution_count": 44,
   "metadata": {},
   "outputs": [
    {
     "data": {
      "text/plain": [
       "array([0, 0, 1, ..., 1, 0, 0])"
      ]
     },
     "execution_count": 44,
     "metadata": {},
     "output_type": "execute_result"
    }
   ],
   "source": [
    "myModel.predict(X_test_check)"
   ]
  },
  {
   "cell_type": "markdown",
   "metadata": {},
   "source": [
    "## Save classifier for future use"
   ]
  },
  {
   "cell_type": "code",
   "execution_count": 45,
   "metadata": {},
   "outputs": [],
   "source": [
    "with open(\"classifier.pickle\", 'wb') as f:\n",
    "    pickle.dump(myModel, f)"
   ]
  },
  {
   "cell_type": "code",
   "execution_count": 46,
   "metadata": {},
   "outputs": [],
   "source": [
    "# Save feature names\n",
    "with open(\"selected_features.txt\", 'w') as f:\n",
    "    for feature in selected_features:\n",
    "        f.write(feature + \"\\n\")"
   ]
  },
  {
   "cell_type": "code",
   "execution_count": 47,
   "metadata": {},
   "outputs": [
    {
     "name": "stdout",
     "output_type": "stream",
     "text": [
      "Total_Trans_Ct\r\n",
      "Total_Trans_Amt\r\n",
      "Total_Revolving_Bal\r\n",
      "Total_Ct_Chng_Q4_Q1\r\n",
      "Total_Relationship_Count\r\n",
      "Total_Amt_Chng_Q4_Q1\r\n",
      "Avg_Utilization_Ratio\r\n",
      "Customer_Age\r\n",
      "Avg_Open_To_Buy\r\n",
      "Contacts_Count_12_mon\r\n"
     ]
    }
   ],
   "source": [
    "%cat selected_features.txt"
   ]
  },
  {
   "cell_type": "markdown",
   "metadata": {},
   "source": [
    "# Simulate deployment"
   ]
  },
  {
   "cell_type": "markdown",
   "metadata": {},
   "source": [
    "Let us pretend we have two new clients, an active and passive ones (respectively with high and low 'Total_Trans_Ct') and let us see how the model classifies them."
   ]
  },
  {
   "cell_type": "code",
   "execution_count": 48,
   "metadata": {},
   "outputs": [],
   "source": [
    "new_client = np.array([[20, 2300, 600, 1.5, 3, 1400, 0.7, 52, 9500, 2],\n",
    "                       [0, 2300, 600, 1.5, 3, 1400, 0.7, 52, 9500, 2]])"
   ]
  },
  {
   "cell_type": "code",
   "execution_count": 49,
   "metadata": {},
   "outputs": [
    {
     "data": {
      "text/plain": [
       "array([0, 1])"
      ]
     },
     "execution_count": 49,
     "metadata": {},
     "output_type": "execute_result"
    }
   ],
   "source": [
    "#myModel.predict(new_client.reshape(2,MAX_FEATURES))\n",
    "myModel.predict(new_client)"
   ]
  },
  {
   "cell_type": "markdown",
   "metadata": {},
   "source": [
    "It is not surprising that the first client obtained `0` class ('Active Customer') and the second one `1` class ('Attrited Customer')."
   ]
  },
  {
   "cell_type": "markdown",
   "metadata": {},
   "source": [
    "# Summary\n",
    "In this little project we have developed a classifier capable of detecting churning clients with **84% sensitivity** (recall) and **91% precision**. The algorithm allows for tuning the recall-precision trade-off, for example, resulting in the working point of **89% sensitivity** and **87% precision**, depending on the _threshold_ required.\n",
    "\n",
    "This project was meant as a mostly complete end-to-end example of classification on a real-world problem.\n",
    "Possible improvements might entail:\n",
    "- Mitigating the imbalanced class representation\n",
    "- More elaborate feature engineering (e.g. dimensionality reduction with PCA)\n",
    "- Addition of other classification algorithms (e.g. SVM, KNN)\n",
    "- Deployment on a web server"
   ]
  }
 ],
 "metadata": {
  "kernelspec": {
   "display_name": "Python 3",
   "language": "python",
   "name": "python3"
  },
  "language_info": {
   "codemirror_mode": {
    "name": "ipython",
    "version": 3
   },
   "file_extension": ".py",
   "mimetype": "text/x-python",
   "name": "python",
   "nbconvert_exporter": "python",
   "pygments_lexer": "ipython3",
   "version": "3.8.5"
  }
 },
 "nbformat": 4,
 "nbformat_minor": 4
}
