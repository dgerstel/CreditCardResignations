{
 "cells": [
  {
   "cell_type": "markdown",
   "metadata": {},
   "source": [
    "# 3. Classification"
   ]
  },
  {
   "cell_type": "markdown",
   "metadata": {},
   "source": [
    "## Load utilities and programming set up\n",
    "\n",
    "Let's start by loading the useful libraries, specifying the input data file, and preparing a utility function that will be used to save any figures later on."
   ]
  },
  {
   "cell_type": "code",
   "execution_count": 20,
   "metadata": {},
   "outputs": [],
   "source": [
    "#%pip install import-ipynb"
   ]
  },
  {
   "cell_type": "code",
   "execution_count": 21,
   "metadata": {},
   "outputs": [],
   "source": [
    "import import_ipynb\n",
    "from _1_DataCleaning import save_fig"
   ]
  },
  {
   "cell_type": "code",
   "execution_count": 22,
   "metadata": {},
   "outputs": [
    {
     "data": {
      "text/html": [
       "<div>\n",
       "<style scoped>\n",
       "    .dataframe tbody tr th:only-of-type {\n",
       "        vertical-align: middle;\n",
       "    }\n",
       "\n",
       "    .dataframe tbody tr th {\n",
       "        vertical-align: top;\n",
       "    }\n",
       "\n",
       "    .dataframe thead th {\n",
       "        text-align: right;\n",
       "    }\n",
       "</style>\n",
       "<table border=\"1\" class=\"dataframe\">\n",
       "  <thead>\n",
       "    <tr style=\"text-align: right;\">\n",
       "      <th></th>\n",
       "      <th>Attrition_Flag</th>\n",
       "      <th>Customer_Age</th>\n",
       "      <th>Gender</th>\n",
       "      <th>Dependent_count</th>\n",
       "      <th>Education_Level</th>\n",
       "      <th>Marital_Status</th>\n",
       "      <th>Income_Category</th>\n",
       "      <th>Card_Category</th>\n",
       "      <th>Months_on_book</th>\n",
       "      <th>Total_Relationship_Count</th>\n",
       "      <th>Months_Inactive_12_mon</th>\n",
       "      <th>Contacts_Count_12_mon</th>\n",
       "      <th>Credit_Limit</th>\n",
       "      <th>Total_Revolving_Bal</th>\n",
       "      <th>Total_Amt_Chng_Q4_Q1</th>\n",
       "      <th>Total_Trans_Amt</th>\n",
       "      <th>Total_Trans_Ct</th>\n",
       "      <th>Total_Ct_Chng_Q4_Q1</th>\n",
       "      <th>Avg_Utilization_Ratio</th>\n",
       "    </tr>\n",
       "  </thead>\n",
       "  <tbody>\n",
       "    <tr>\n",
       "      <th>1602</th>\n",
       "      <td>Attrited Customer</td>\n",
       "      <td>54</td>\n",
       "      <td>F</td>\n",
       "      <td>3</td>\n",
       "      <td>College</td>\n",
       "      <td>Single</td>\n",
       "      <td>Unknown</td>\n",
       "      <td>Blue</td>\n",
       "      <td>49</td>\n",
       "      <td>6</td>\n",
       "      <td>2</td>\n",
       "      <td>3</td>\n",
       "      <td>13184.0</td>\n",
       "      <td>0</td>\n",
       "      <td>1.166</td>\n",
       "      <td>2047</td>\n",
       "      <td>33</td>\n",
       "      <td>0.179</td>\n",
       "      <td>0.000</td>\n",
       "    </tr>\n",
       "    <tr>\n",
       "      <th>7791</th>\n",
       "      <td>Existing Customer</td>\n",
       "      <td>51</td>\n",
       "      <td>M</td>\n",
       "      <td>0</td>\n",
       "      <td>High School</td>\n",
       "      <td>Single</td>\n",
       "      <td>$80K - $120K</td>\n",
       "      <td>Blue</td>\n",
       "      <td>45</td>\n",
       "      <td>3</td>\n",
       "      <td>2</td>\n",
       "      <td>3</td>\n",
       "      <td>10648.0</td>\n",
       "      <td>2517</td>\n",
       "      <td>0.708</td>\n",
       "      <td>4930</td>\n",
       "      <td>89</td>\n",
       "      <td>0.978</td>\n",
       "      <td>0.236</td>\n",
       "    </tr>\n",
       "    <tr>\n",
       "      <th>7177</th>\n",
       "      <td>Existing Customer</td>\n",
       "      <td>45</td>\n",
       "      <td>F</td>\n",
       "      <td>4</td>\n",
       "      <td>High School</td>\n",
       "      <td>Single</td>\n",
       "      <td>$40K - $60K</td>\n",
       "      <td>Blue</td>\n",
       "      <td>29</td>\n",
       "      <td>3</td>\n",
       "      <td>2</td>\n",
       "      <td>1</td>\n",
       "      <td>4595.0</td>\n",
       "      <td>1781</td>\n",
       "      <td>0.708</td>\n",
       "      <td>3746</td>\n",
       "      <td>68</td>\n",
       "      <td>0.545</td>\n",
       "      <td>0.388</td>\n",
       "    </tr>\n",
       "    <tr>\n",
       "      <th>97</th>\n",
       "      <td>Existing Customer</td>\n",
       "      <td>53</td>\n",
       "      <td>M</td>\n",
       "      <td>3</td>\n",
       "      <td>Doctorate</td>\n",
       "      <td>Married</td>\n",
       "      <td>$40K - $60K</td>\n",
       "      <td>Blue</td>\n",
       "      <td>35</td>\n",
       "      <td>5</td>\n",
       "      <td>3</td>\n",
       "      <td>2</td>\n",
       "      <td>3789.0</td>\n",
       "      <td>1706</td>\n",
       "      <td>1.047</td>\n",
       "      <td>1609</td>\n",
       "      <td>42</td>\n",
       "      <td>0.680</td>\n",
       "      <td>0.450</td>\n",
       "    </tr>\n",
       "    <tr>\n",
       "      <th>4820</th>\n",
       "      <td>Existing Customer</td>\n",
       "      <td>48</td>\n",
       "      <td>F</td>\n",
       "      <td>2</td>\n",
       "      <td>Graduate</td>\n",
       "      <td>Married</td>\n",
       "      <td>Unknown</td>\n",
       "      <td>Blue</td>\n",
       "      <td>40</td>\n",
       "      <td>3</td>\n",
       "      <td>2</td>\n",
       "      <td>4</td>\n",
       "      <td>5104.0</td>\n",
       "      <td>736</td>\n",
       "      <td>0.679</td>\n",
       "      <td>3943</td>\n",
       "      <td>78</td>\n",
       "      <td>0.696</td>\n",
       "      <td>0.144</td>\n",
       "    </tr>\n",
       "  </tbody>\n",
       "</table>\n",
       "</div>"
      ],
      "text/plain": [
       "         Attrition_Flag  Customer_Age Gender  Dependent_count Education_Level  \\\n",
       "1602  Attrited Customer            54      F                3         College   \n",
       "7791  Existing Customer            51      M                0     High School   \n",
       "7177  Existing Customer            45      F                4     High School   \n",
       "97    Existing Customer            53      M                3       Doctorate   \n",
       "4820  Existing Customer            48      F                2        Graduate   \n",
       "\n",
       "     Marital_Status Income_Category Card_Category  Months_on_book  \\\n",
       "1602         Single         Unknown          Blue              49   \n",
       "7791         Single    $80K - $120K          Blue              45   \n",
       "7177         Single     $40K - $60K          Blue              29   \n",
       "97          Married     $40K - $60K          Blue              35   \n",
       "4820        Married         Unknown          Blue              40   \n",
       "\n",
       "      Total_Relationship_Count  Months_Inactive_12_mon  Contacts_Count_12_mon  \\\n",
       "1602                         6                       2                      3   \n",
       "7791                         3                       2                      3   \n",
       "7177                         3                       2                      1   \n",
       "97                           5                       3                      2   \n",
       "4820                         3                       2                      4   \n",
       "\n",
       "      Credit_Limit  Total_Revolving_Bal  Total_Amt_Chng_Q4_Q1  \\\n",
       "1602       13184.0                    0                 1.166   \n",
       "7791       10648.0                 2517                 0.708   \n",
       "7177        4595.0                 1781                 0.708   \n",
       "97          3789.0                 1706                 1.047   \n",
       "4820        5104.0                  736                 0.679   \n",
       "\n",
       "      Total_Trans_Amt  Total_Trans_Ct  Total_Ct_Chng_Q4_Q1  \\\n",
       "1602             2047              33                0.179   \n",
       "7791             4930              89                0.978   \n",
       "7177             3746              68                0.545   \n",
       "97               1609              42                0.680   \n",
       "4820             3943              78                0.696   \n",
       "\n",
       "      Avg_Utilization_Ratio  \n",
       "1602                  0.000  \n",
       "7791                  0.236  \n",
       "7177                  0.388  \n",
       "97                    0.450  \n",
       "4820                  0.144  "
      ]
     },
     "execution_count": 22,
     "metadata": {},
     "output_type": "execute_result"
    }
   ],
   "source": [
    "### Read the dataset form the previous step\n",
    "import pandas as pd\n",
    "credit_prepared, credit_labels_prepared = pd.read_pickle(\"dataset_train_step2.pickle\")\n",
    "credit_prepared"
   ]
  },
  {
   "cell_type": "markdown",
   "metadata": {},
   "source": [
    "We will plot the column distributions using the `scatter_matrix(.)` function.\n",
    "The resulting array of plots shows:\n",
    "- each column distribution in the diagonal subplots\n",
    "- correlations between respecive pairs of columns in the non-diagonal subplots"
   ]
  },
  {
   "cell_type": "markdown",
   "metadata": {},
   "source": [
    "# Choose and train a ML model"
   ]
  },
  {
   "cell_type": "code",
   "execution_count": 26,
   "metadata": {},
   "outputs": [
    {
     "data": {
      "text/plain": [
       "LinearRegression()"
      ]
     },
     "execution_count": 26,
     "metadata": {},
     "output_type": "execute_result"
    }
   ],
   "source": [
    "from sklearn.linear_model import LinearRegression\n",
    "\n",
    "lin_reg = LinearRegression()\n",
    "lin_reg.fit(credit_prepared, credit_labels_prepared)"
   ]
  },
  {
   "cell_type": "code",
   "execution_count": 28,
   "metadata": {},
   "outputs": [
    {
     "name": "stdout",
     "output_type": "stream",
     "text": [
      "Predictions: [0.42865919 1.23814271 0.89783302 0.87524327 0.8181202 ]\n",
      "Labels: ['Attrited Customer', 'Existing Customer', 'Existing Customer', 'Existing Customer', 'Existing Customer']\n"
     ]
    }
   ],
   "source": [
    "# Let's try it out\n",
    "some_data = df.iloc[:5]\n",
    "some_labels = credit_labels.iloc[:5]\n",
    "some_data_prepared = full_pipeline.transform(some_data)\n",
    "print(\"Predictions:\", lin_reg.predict(some_data_prepared))\n",
    "print(\"Labels:\", list(some_labels))"
   ]
  },
  {
   "cell_type": "code",
   "execution_count": 29,
   "metadata": {},
   "outputs": [
    {
     "data": {
      "text/plain": [
       "0.29075752512231773"
      ]
     },
     "execution_count": 29,
     "metadata": {},
     "output_type": "execute_result"
    }
   ],
   "source": [
    "from sklearn.metrics import mean_squared_error\n",
    "credit_predictions = lin_reg.predict(credit_prepared)\n",
    "lin_mse = mean_squared_error(credit_labels_prepared, credit_predictions)\n",
    "lin_rmse = np.sqrt(lin_mse)\n",
    "lin_rmse"
   ]
  },
  {
   "cell_type": "code",
   "execution_count": 31,
   "metadata": {},
   "outputs": [
    {
     "data": {
      "text/plain": [
       "0.29075752512231773"
      ]
     },
     "execution_count": 31,
     "metadata": {},
     "output_type": "execute_result"
    }
   ],
   "source": [
    "from sklearn.tree import DecisionTreeRegressor\n",
    "\n",
    "tree_reg = DecisionTreeRegressor()\n",
    "tree_reg.fit(credit_prepared, credit_labels_prepared)\n",
    "\n",
    "credit_predictons = tree_reg.predict(credit_prepared)\n",
    "tree_mse = mean_squared_error(credit_labels_prepared, credit_predictions)\n",
    "tree_rmse = np.sqrt(tree_mse)\n",
    "tree_rmse"
   ]
  },
  {
   "cell_type": "code",
   "execution_count": 33,
   "metadata": {},
   "outputs": [
    {
     "name": "stdout",
     "output_type": "stream",
     "text": [
      "Scores: [0.25563923 0.21659543 0.21942686 0.27216553 0.248452   0.22771002\n",
      " 0.24088315 0.25337232 0.25819889 0.22771002]\n",
      "Mean: 0.24201534405531114\n",
      "Standard deviation: 0.017589600745373773\n"
     ]
    }
   ],
   "source": [
    "# the above looks fishy -> same number?\n",
    "from sklearn.model_selection import cross_val_score\n",
    "scores = cross_val_score(tree_reg, credit_prepared, credit_labels_prepared, scoring=\"neg_mean_squared_error\", cv=10)\n",
    "tree_rmse_scores = np.sqrt(-scores)\n",
    "\n",
    "def display_scores(scores):\n",
    "    print(\"Scores:\", scores)\n",
    "    print(\"Mean:\", scores.mean())\n",
    "    print(\"Standard deviation:\", scores.std())\n",
    "    \n",
    "display_scores(tree_rmse_scores)"
   ]
  },
  {
   "cell_type": "code",
   "execution_count": 34,
   "metadata": {},
   "outputs": [
    {
     "name": "stdout",
     "output_type": "stream",
     "text": [
      "Scores: [0.2904641  0.29092639 0.27747691 0.30298606 0.30020822 0.2985719\n",
      " 0.29140202 0.2784484  0.29261424 0.29044852]\n",
      "Mean: 0.2913546759788459\n",
      "Standard deviation: 0.007926622475223289\n"
     ]
    }
   ],
   "source": [
    "lin_scores = cross_val_score(lin_reg, credit_prepared, credit_labels_prepared,\n",
    "                            scoring=\"neg_mean_squared_error\", cv=10)\n",
    "lin_rmse_scores = np.sqrt(-lin_scores)\n",
    "display_scores(lin_rmse_scores)"
   ]
  },
  {
   "cell_type": "markdown",
   "metadata": {},
   "source": [
    "The first column shows a unique identifier for each client;  it will prove useful in randomly splitting into train- and test-set. Although explicitly there are no null values, some of them are marked as e.g. 'unknown' and should be considered as null values.\n",
    "The data provider suggested to remove the last two columns (they might be some work-in-progress development...).\n"
   ]
  },
  {
   "cell_type": "markdown",
   "metadata": {},
   "source": [
    "# Create a Test Test\n",
    "\n",
    "For simplicity and because the dataset is reasonably large (10k customers), a random split should suffice and bring a roughly homogenous test sample."
   ]
  },
  {
   "cell_type": "code",
   "execution_count": null,
   "metadata": {},
   "outputs": [],
   "source": [
    "from sklearn.model_selection import train_test_split\n",
    "train_set, test_set = train_test_split(df, test_size=0.2, random_state=42)"
   ]
  },
  {
   "cell_type": "markdown",
   "metadata": {},
   "source": [
    "Project TODOs:\n",
    "\n",
    "    + plot features for 'signal' and 'background'\n",
    "    - decide when to split into train/test set and how (k-fold)\n",
    "    - consider 'balanced' training 'signal' and 'background'\n",
    "    - train a bunch of models\n",
    "    - shortlist the best ones\n",
    "    - fine tune them\n",
    "    - deploy the result"
   ]
  },
  {
   "cell_type": "code",
   "execution_count": null,
   "metadata": {},
   "outputs": [],
   "source": []
  }
 ],
 "metadata": {
  "kernelspec": {
   "display_name": "Python 3",
   "language": "python",
   "name": "python3"
  },
  "language_info": {
   "codemirror_mode": {
    "name": "ipython",
    "version": 3
   },
   "file_extension": ".py",
   "mimetype": "text/x-python",
   "name": "python",
   "nbconvert_exporter": "python",
   "pygments_lexer": "ipython3",
   "version": "3.8.5"
  }
 },
 "nbformat": 4,
 "nbformat_minor": 4
}
